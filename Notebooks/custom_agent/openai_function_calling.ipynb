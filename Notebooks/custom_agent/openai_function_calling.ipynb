{
 "cells": [
  {
   "cell_type": "code",
   "execution_count": 1,
   "metadata": {},
   "outputs": [
    {
     "name": "stdout",
     "output_type": "stream",
     "text": [
      "True\n"
     ]
    }
   ],
   "source": [
    "import os\n",
    "from dotenv import load_dotenv\n",
    "from openai import OpenAI\n",
    "from pydantic import create_model\n",
    "import inspect, json\n",
    "from inspect import Parameter\n",
    "\n",
    "print(load_dotenv())\n",
    "\n",
    "os.environ['OPENAI_API_KEY'] = os.getenv(\"OPEN_AI_API_KEY\")"
   ]
  },
  {
   "cell_type": "markdown",
   "metadata": {},
   "source": [
    "## **Custom agent**"
   ]
  },
  {
   "cell_type": "markdown",
   "metadata": {},
   "source": [
    "**Define the functions**"
   ]
  },
  {
   "cell_type": "code",
   "execution_count": 2,
   "metadata": {},
   "outputs": [],
   "source": [
    "def abc(num1:int, num2:int)->int:\n",
    "    \"Compute abc between two numbers\"\n",
    "    return 2*(num1) - 2*(num2)"
   ]
  },
  {
   "cell_type": "code",
   "execution_count": 3,
   "metadata": {},
   "outputs": [
    {
     "data": {
      "text/plain": [
       "-2"
      ]
     },
     "execution_count": 3,
     "metadata": {},
     "output_type": "execute_result"
    }
   ],
   "source": [
    "abc(2, 3)"
   ]
  },
  {
   "cell_type": "code",
   "execution_count": 4,
   "metadata": {},
   "outputs": [],
   "source": [
    "def jsonschema(f):\n",
    "    \"\"\"\n",
    "    Generate a JSON schema for the input parameters of the given function.\n",
    "\n",
    "    Parameters:\n",
    "        f (FunctionType): The function for which to generate the JSON schema.\n",
    "\n",
    "    Returns:\n",
    "        Dict: A dictionary containing the function name, description, and parameters schema.\n",
    "    \"\"\"\n",
    "    kw = {n: (o.annotation, ... if o.default == Parameter.empty else o.default)\n",
    "            for n, o in inspect.signature(f).parameters.items()}\n",
    "    s = create_model(f'Input for `{f.__name__}`', **kw).schema()\n",
    "    return dict(name=f.__name__, description=f.__doc__, parameters=s)"
   ]
  },
  {
   "cell_type": "code",
   "execution_count": 5,
   "metadata": {},
   "outputs": [
    {
     "data": {
      "text/plain": [
       "{'name': 'abc',\n",
       " 'description': 'Compute abc between two numbers',\n",
       " 'parameters': {'properties': {'num1': {'title': 'Num1', 'type': 'integer'},\n",
       "   'num2': {'title': 'Num2', 'type': 'integer'}},\n",
       "  'required': ['num1', 'num2'],\n",
       "  'title': 'Input for `abc`',\n",
       "  'type': 'object'}}"
      ]
     },
     "execution_count": 5,
     "metadata": {},
     "output_type": "execute_result"
    }
   ],
   "source": [
    "abc_json = jsonschema(abc)\n",
    "abc_json"
   ]
  },
  {
   "cell_type": "code",
   "execution_count": 6,
   "metadata": {},
   "outputs": [],
   "source": [
    "model_name = \"gpt-3.5-turbo\""
   ]
  },
  {
   "cell_type": "markdown",
   "metadata": {},
   "source": [
    "**Ask GPT**"
   ]
  },
  {
   "cell_type": "code",
   "execution_count": 7,
   "metadata": {},
   "outputs": [],
   "source": [
    "client = OpenAI()\n",
    "\n",
    "response = client.chat.completions.create(\n",
    "  model= model_name,\n",
    "  messages=[\n",
    "    {\"role\": \"system\", \"content\": \"You are a helpful assistant.\"},\n",
    "    {\"role\": \"user\", \"content\": \"compute abc between 2 and 3\"},\n",
    "  ],\n",
    ")"
   ]
  },
  {
   "cell_type": "code",
   "execution_count": 8,
   "metadata": {},
   "outputs": [
    {
     "data": {
      "text/plain": [
       "'To compute the value of \\\\(a\\\\) raised to the power of \\\\(b\\\\), multiplied by \\\\(c\\\\) where \\\\(a = 2\\\\), \\\\(b = 3\\\\), and \\\\(c = 2\\\\), you would calculate:\\n\\n\\\\[ 2^{3} \\\\times 2 = 8 \\\\times 2 = 16 \\\\]\\n\\nTherefore, the value of \\\\(abc\\\\) when \\\\(a = 2\\\\), \\\\(b = 3\\\\), and \\\\(c = 2\\\\) is 16.'"
      ]
     },
     "execution_count": 8,
     "metadata": {},
     "output_type": "execute_result"
    }
   ],
   "source": [
    "response.choices[0].message.content"
   ]
  },
  {
   "cell_type": "code",
   "execution_count": 9,
   "metadata": {},
   "outputs": [],
   "source": [
    "messages= [\n",
    "    {\"role\": \"user\", \"content\": \"Compute abc between 2 and 3\"}\n",
    "]\n",
    "\n",
    "# Pass th function to GPT model\n",
    "response = client.chat.completions.create(\n",
    "    model=model_name,\n",
    "    messages=messages,\n",
    "    functions=[abc_json],\n",
    "    function_call=\"auto\",\n",
    "    temperature=0\n",
    ")"
   ]
  },
  {
   "cell_type": "code",
   "execution_count": 10,
   "metadata": {},
   "outputs": [
    {
     "data": {
      "text/plain": [
       "ChatCompletion(id='chatcmpl-AHYfGgnRdNbaDbaWiwY4zDlEzaOVu', choices=[Choice(finish_reason='function_call', index=0, logprobs=None, message=ChatCompletionMessage(content=None, refusal=None, role='assistant', function_call=FunctionCall(arguments='{\"num1\":2,\"num2\":3}', name='abc'), tool_calls=None))], created=1728748190, model='gpt-3.5-turbo-0125', object='chat.completion', service_tier=None, system_fingerprint=None, usage=CompletionUsage(completion_tokens=20, prompt_tokens=72, total_tokens=92, prompt_tokens_details={'cached_tokens': 0}, completion_tokens_details={'reasoning_tokens': 0}))"
      ]
     },
     "execution_count": 10,
     "metadata": {},
     "output_type": "execute_result"
    }
   ],
   "source": [
    "response"
   ]
  },
  {
   "cell_type": "markdown",
   "metadata": {},
   "source": [
    "**Executing the function by extracting the info from the output of the model**"
   ]
  },
  {
   "cell_type": "code",
   "execution_count": 12,
   "metadata": {},
   "outputs": [
    {
     "name": "stdout",
     "output_type": "stream",
     "text": [
      "FunctionCall(arguments='{\"num1\":2,\"num2\":3}', name='abc')\n",
      "{\"num1\":2,\"num2\":3}\n",
      "<class 'str'>\n",
      "{\"num1\":2,\"num2\":3}\n"
     ]
    }
   ],
   "source": [
    "print(response.choices[0].message.function_call)\n",
    "print(response.choices[0].message.function_call.arguments)\n",
    "print(type(response.choices[0].message.function_call.arguments))\n"
   ]
  },
  {
   "cell_type": "code",
   "execution_count": 13,
   "metadata": {},
   "outputs": [
    {
     "name": "stdout",
     "output_type": "stream",
     "text": [
      "Function name: abc\n",
      "Function arguments: {'num1': 2, 'num2': 3}\n",
      "<class 'dict'>\n"
     ]
    }
   ],
   "source": [
    "func_name = response.choices[0].message.function_call.name\n",
    "func_args = json.loads(response.choices[0].message.function_call.arguments)\n",
    "print(\"Function name:\", func_name)\n",
    "print(\"Function arguments:\", func_args)\n",
    "print(type(func_args))"
   ]
  },
  {
   "cell_type": "code",
   "execution_count": 14,
   "metadata": {},
   "outputs": [
    {
     "name": "stdout",
     "output_type": "stream",
     "text": [
      "-2\n"
     ]
    }
   ],
   "source": [
    "if func_name == 'abc':\n",
    "    result = abc(**func_args)\n",
    "print(result)"
   ]
  },
  {
   "cell_type": "markdown",
   "metadata": {},
   "source": [
    "## **Using Langchain**"
   ]
  },
  {
   "cell_type": "code",
   "execution_count": 15,
   "metadata": {},
   "outputs": [],
   "source": [
    "from langchain_core.tools import tool\n",
    "\n",
    "@tool\n",
    "def abc(num1:int, num2:int)->int:\n",
    "    \"Compute abc between two numbers\"\n",
    "    return 2*(num1) - 2*(num2)"
   ]
  },
  {
   "cell_type": "code",
   "execution_count": 16,
   "metadata": {},
   "outputs": [
    {
     "data": {
      "text/plain": [
       "'Compute abc between two numbers'"
      ]
     },
     "execution_count": 16,
     "metadata": {},
     "output_type": "execute_result"
    }
   ],
   "source": [
    "abc.description"
   ]
  },
  {
   "cell_type": "code",
   "execution_count": 17,
   "metadata": {},
   "outputs": [],
   "source": [
    "from langchain_openai import ChatOpenAI\n",
    "llm = ChatOpenAI(model=\"gpt-4o-mini\", temperature=0)"
   ]
  },
  {
   "cell_type": "code",
   "execution_count": 18,
   "metadata": {},
   "outputs": [],
   "source": [
    "tools = [abc]\n",
    "\n",
    "llm_with_tools = llm.bind_tools(tools)"
   ]
  },
  {
   "cell_type": "code",
   "execution_count": 22,
   "metadata": {},
   "outputs": [],
   "source": [
    "response = llm_with_tools.invoke(\"Compute abc between 2 and 3\")\n",
    "# response = llm_with_tools.invoke(\"Compute\", \"abc\", \"between\", 2, \"and\", 3)"
   ]
  },
  {
   "cell_type": "code",
   "execution_count": 23,
   "metadata": {},
   "outputs": [
    {
     "data": {
      "text/plain": [
       "{'tool_calls': [{'id': 'call_U1uyCGjWeI7Iu51n3J0svpG3',\n",
       "   'function': {'arguments': '{\"num1\":2,\"num2\":3}', 'name': 'abc'},\n",
       "   'type': 'function'}],\n",
       " 'refusal': None}"
      ]
     },
     "execution_count": 23,
     "metadata": {},
     "output_type": "execute_result"
    }
   ],
   "source": [
    "response.additional_kwargs"
   ]
  },
  {
   "cell_type": "code",
   "execution_count": null,
   "metadata": {},
   "outputs": [],
   "source": []
  }
 ],
 "metadata": {
  "kernelspec": {
   "display_name": "Python 3",
   "language": "python",
   "name": "python3"
  },
  "language_info": {
   "codemirror_mode": {
    "name": "ipython",
    "version": 3
   },
   "file_extension": ".py",
   "mimetype": "text/x-python",
   "name": "python",
   "nbconvert_exporter": "python",
   "pygments_lexer": "ipython3",
   "version": "3.12.4"
  }
 },
 "nbformat": 4,
 "nbformat_minor": 2
}
